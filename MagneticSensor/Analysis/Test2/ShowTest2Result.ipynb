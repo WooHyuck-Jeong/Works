{
 "cells": [
  {
   "cell_type": "code",
   "execution_count": null,
   "metadata": {},
   "outputs": [],
   "source": [
    "import os\n",
    "import glob\n",
    "import numpy as np\n",
    "import pandas as pd\n",
    "import matplotlib.pyplot as plt"
   ]
  },
  {
   "cell_type": "code",
   "execution_count": null,
   "metadata": {},
   "outputs": [],
   "source": [
    "folderPath = \"/Users/jwh/Desktop/0720/MagneticTest/Test2/result/\"\n",
    "fileList = sorted(glob.glob(folderPath + \"*.csv\"))"
   ]
  },
  {
   "cell_type": "code",
   "execution_count": null,
   "metadata": {},
   "outputs": [],
   "source": [
    "fileIdx = [1, 8, 9, 10, 11, 12, 13, 14, 15, 2, 3, 4, 5, 6, 7]"
   ]
  },
  {
   "cell_type": "code",
   "execution_count": null,
   "metadata": {},
   "outputs": [],
   "source": [
    "files = [fileList[i] for i in fileIdx]"
   ]
  },
  {
   "cell_type": "code",
   "execution_count": null,
   "metadata": {},
   "outputs": [],
   "source": [
    "base = pd.read_csv(fileList[0], sep= \",\")\n",
    "baseMean = pd.DataFrame(base.mean(axis= 0))\n",
    "baseMean.head()"
   ]
  },
  {
   "cell_type": "code",
   "execution_count": null,
   "metadata": {},
   "outputs": [],
   "source": [
    "sensorList = [f\"s{i + 1}\" for i in range(6)]"
   ]
  },
  {
   "cell_type": "code",
   "execution_count": null,
   "metadata": {},
   "outputs": [],
   "source": [
    "def getScaled(df):\n",
    "    res = []\n",
    "    for i in range(6):\n",
    "        res.append(df.iloc[:, i] - baseMean.iloc[i, 0])\n",
    "\n",
    "    res = np.array(res).reshape(6, 3000).T\n",
    "    res = pd.DataFrame(res, columns= sensorList)\n",
    "    \n",
    "    return res"
   ]
  },
  {
   "cell_type": "code",
   "execution_count": null,
   "metadata": {},
   "outputs": [],
   "source": [
    "def showResult(i, filePath, figName):\n",
    "    case = pd.read_csv(filePath[i], sep= \",\")\n",
    "    scaledCase = getScaled(case)\n",
    "\n",
    "    plt.figure(figsize= (8, 6))\n",
    "    scaledCase.plot(kind= \"line\", title= figName)\n",
    "    plt.legend()"
   ]
  },
  {
   "cell_type": "code",
   "execution_count": null,
   "metadata": {},
   "outputs": [],
   "source": [
    "for i in range(15):\n",
    "    showResult(i, files, f\"Case {i + 1}\")\n",
    "plt.show()"
   ]
  }
 ],
 "metadata": {
  "language_info": {
   "name": "python"
  }
 },
 "nbformat": 4,
 "nbformat_minor": 2
}
