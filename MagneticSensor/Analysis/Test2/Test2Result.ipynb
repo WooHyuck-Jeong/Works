{
 "cells": [
  {
   "cell_type": "code",
   "execution_count": 1,
   "metadata": {},
   "outputs": [],
   "source": [
    "import os\n",
    "import glob\n",
    "import numpy as np\n",
    "import pandas as pd\n",
    "import matplotlib.pyplot as plt"
   ]
  },
  {
   "cell_type": "code",
   "execution_count": 2,
   "metadata": {},
   "outputs": [],
   "source": [
    "folderPath = \"/Users/jwh/Desktop/0720/MagneticTest/Test2/result/\"\n",
    "fileList = sorted(glob.glob(folderPath + \"*.csv\"))"
   ]
  },
  {
   "cell_type": "code",
   "execution_count": 3,
   "metadata": {},
   "outputs": [],
   "source": [
    "base = pd.read_csv(fileList[0], sep= \",\")\n",
    "baseMean = pd.DataFrame(base.mean(axis= 0))"
   ]
  },
  {
   "cell_type": "code",
   "execution_count": 4,
   "metadata": {},
   "outputs": [],
   "source": [
    "case1 = pd.read_csv(fileList[1], sep= \",\")\n",
    "case2 = pd.read_csv(fileList[8], sep= \",\")\n",
    "case3 = pd.read_csv(fileList[9], sep= \",\")\n",
    "case4 = pd.read_csv(fileList[10], sep= \",\")\n",
    "case5 = pd.read_csv(fileList[11], sep= \",\")\n",
    "case6 = pd.read_csv(fileList[12], sep= \",\")\n",
    "case7 = pd.read_csv(fileList[13], sep= \",\")\n",
    "case8 = pd.read_csv(fileList[14], sep= \",\")\n",
    "case9 = pd.read_csv(fileList[15], sep= \",\")\n",
    "case10 = pd.read_csv(fileList[2], sep= \",\")\n",
    "case11 = pd.read_csv(fileList[3], sep= \",\")\n",
    "case12 = pd.read_csv(fileList[4], sep= \",\")\n",
    "case13 = pd.read_csv(fileList[5], sep= \",\")\n",
    "case14 = pd.read_csv(fileList[6], sep= \",\")\n",
    "case15 = pd.read_csv(fileList[7], sep= \",\")"
   ]
  },
  {
   "cell_type": "code",
   "execution_count": 5,
   "metadata": {},
   "outputs": [],
   "source": [
    "scaledCase1 = pd.DataFrame()\n",
    "scaledCase2 = pd.DataFrame()\n",
    "scaledCase3 = pd.DataFrame()\n",
    "scaledCase4 = pd.DataFrame()\n",
    "scaledCase5 = pd.DataFrame()\n",
    "scaledCase6 = pd.DataFrame()\n",
    "scaledCase7 = pd.DataFrame()\n",
    "scaledCase8 = pd.DataFrame()\n",
    "scaledCase9 = pd.DataFrame()\n",
    "scaledCase10 = pd.DataFrame()\n",
    "scaledCase11 = pd.DataFrame()\n",
    "scaledCase12 = pd.DataFrame()\n",
    "scaledCase13 = pd.DataFrame()\n",
    "scaledCase14 = pd.DataFrame()\n",
    "scaledCase15 = pd.DataFrame()"
   ]
  },
  {
   "cell_type": "code",
   "execution_count": 7,
   "metadata": {},
   "outputs": [
    {
     "name": "stdout",
     "output_type": "stream",
     "text": [
      "-423.7303333333333\n",
      "-366.1533333333333\n"
     ]
    }
   ],
   "source": [
    "print(baseMean.iloc[0, 0])\n",
    "print(baseMean.iloc[1, 0])"
   ]
  },
  {
   "cell_type": "code",
   "execution_count": 11,
   "metadata": {},
   "outputs": [],
   "source": [
    "tmp = []\n",
    "for i in range(6):\n",
    "    tmp.append(case1.iloc[:, i] - baseMean.iloc[i, 0])\n",
    "\n",
    "tmp = np.array(tmp).reshape(6, 3000).T\n",
    "tmp = pd.DataFrame(tmp, columns= [\"s1\", \"s2\", \"s3\", \"s4\", \"s5\", \"s6\"])"
   ]
  },
  {
   "cell_type": "code",
   "execution_count": 14,
   "metadata": {},
   "outputs": [
    {
     "data": {
      "text/plain": [
       "<Figure size 800x600 with 0 Axes>"
      ]
     },
     "metadata": {},
     "output_type": "display_data"
    },
    {
     "data": {
      "image/png": "[encoded data removed]",
      "text/plain": [
       "<Figure size 640x480 with 1 Axes>"
      ]
     },
     "metadata": {},
     "output_type": "display_data"
    }
   ],
   "source": [
    "plt.figure(figsize= (8, 6))\n",
    "tmp.plot(kind= \"line\", ylim= (-2400, 2400))\n",
    "plt.show()"
   ]
  },
  {
   "cell_type": "code",
   "execution_count": 8,
   "metadata": {},
   "outputs": [
    {
     "name": "stdout",
     "output_type": "stream",
     "text": [
      "0      -424\n",
      "1      -426\n",
      "2      -417\n",
      "3      -419\n",
      "4      -419\n",
      "       ... \n",
      "2995   -415\n",
      "2996   -426\n",
      "2997   -424\n",
      "2998   -421\n",
      "2999   -415\n",
      "Name: s1, Length: 3000, dtype: int64\n",
      "0      -352\n",
      "1      -357\n",
      "2      -355\n",
      "3      -359\n",
      "4      -360\n",
      "       ... \n",
      "2995   -355\n",
      "2996   -359\n",
      "2997   -357\n",
      "2998   -357\n",
      "2999   -359\n",
      "Name: s2, Length: 3000, dtype: int64\n"
     ]
    }
   ],
   "source": [
    "print(case1.iloc[:, 0])\n",
    "print(case1.iloc[:, 1])"
   ]
  },
  {
   "cell_type": "code",
   "execution_count": null,
   "metadata": {},
   "outputs": [],
   "source": []
  }
 ],
 "metadata": {
  "kernelspec": {
   "display_name": "torch",
   "language": "python",
   "name": "python3"
  },
  "language_info": {
   "codemirror_mode": {
    "name": "ipython",
    "version": 3
   },
   "file_extension": ".py",
   "mimetype": "text/x-python",
   "name": "python",
   "nbconvert_exporter": "python",
   "pygments_lexer": "ipython3",
   "version": "3.9.16"
  }
 },
 "nbformat": 4,
 "nbformat_minor": 2
}
