{
 "cells": [
  {
   "cell_type": "code",
   "execution_count": 1,
   "metadata": {},
   "outputs": [],
   "source": [
    "import os\n",
    "import glob\n",
    "import numpy as np\n",
    "import pandas as pd\n",
    "import matplotlib.pyplot as plt"
   ]
  },
  {
   "cell_type": "code",
   "execution_count": 2,
   "metadata": {},
   "outputs": [],
   "source": [
    "folderPath = \"/Users/jwh/Desktop/0720/MagneticTest/Test2/result/\"\n",
    "fileList = sorted(glob.glob(folderPath + \"*.csv\"))"
   ]
  },
  {
   "cell_type": "code",
   "execution_count": 3,
   "metadata": {},
   "outputs": [],
   "source": [
    "base = pd.read_csv(fileList[0], sep= \",\")\n",
    "baseMean = pd.DataFrame(base.mean(axis= 0))"
   ]
  },
  {
   "cell_type": "code",
   "execution_count": 4,
   "metadata": {},
   "outputs": [],
   "source": [
    "import pandas as pd\n",
    "\n",
    "# 파일 인덱스를 리스트로 만듭니다.\n",
    "file_indices = [1, 8, 9, 10, 11, 12, 13, 14, 15, 2, 3, 4, 5, 6, 7]\n",
    "\n",
    "# 루프를 통해 데이터프레임을 읽고 리스트에 저장합니다.\n",
    "cases = [pd.read_csv(fileList[idx], sep=\",\") for idx in file_indices]\n",
    "\n",
    "# cases 리스트의 각 데이터프레임에 접근할 수 있습니다.\n",
    "case1, case2, case3, case4, case5, case6, case7, case8, case9, case10, case11, case12, case13, case14, case15 = cases"
   ]
  },
  {
   "cell_type": "code",
   "execution_count": 5,
   "metadata": {},
   "outputs": [],
   "source": [
    "def getMean(df):\n",
    "    res = pd.DataFrame(df.mean(axis= 0))\n",
    "    return res\n",
    "\n",
    "def getStd(df):\n",
    "    res = pd.DataFrame(df.std(axis= 0))\n",
    "    return res"
   ]
  },
  {
   "cell_type": "code",
   "execution_count": 6,
   "metadata": {},
   "outputs": [],
   "source": [
    "caseMean = []\n",
    "for i in range(15):\n",
    "    caseMean.append(cases[i].mean(axis= 0))"
   ]
  },
  {
   "cell_type": "code",
   "execution_count": 7,
   "metadata": {},
   "outputs": [],
   "source": [
    "caseList = [f\"C{i+1}\" for i in range(15)]\n",
    "sensorList = [f\"S{i+1}\" for i in range(6)]\n",
    "caseMean = np.array(caseMean).reshape(15, 6)\n",
    "caseMean = pd.DataFrame(caseMean, columns= sensorList, index= caseList)\n",
    "caseMean.to_csv(\"/Users/jwh/Desktop/0720/ResultAnalysis/Test2/Test2Mean.csv\", sep= \",\")"
   ]
  },
  {
   "cell_type": "code",
   "execution_count": 8,
   "metadata": {},
   "outputs": [],
   "source": [
    "caseStd = []\n",
    "for i in range(15):\n",
    "    caseStd.append(cases[i].std(axis= 0))\n",
    "\n",
    "caseStd = np.array(caseStd).reshape(15, 6)\n",
    "caseStd = pd.DataFrame(caseStd, columns= sensorList, index= caseList)\n",
    "caseStd.to_csv(\"/Users/jwh/Desktop/0720/ResultAnalysis/Test2/Test2Std.csv\", sep= \",\")"
   ]
  }
 ],
 "metadata": {
  "kernelspec": {
   "display_name": "torch",
   "language": "python",
   "name": "python3"
  },
  "language_info": {
   "codemirror_mode": {
    "name": "ipython",
    "version": 3
   },
   "file_extension": ".py",
   "mimetype": "text/x-python",
   "name": "python",
   "nbconvert_exporter": "python",
   "pygments_lexer": "ipython3",
   "version": "3.9.16"
  }
 },
 "nbformat": 4,
 "nbformat_minor": 2
}
